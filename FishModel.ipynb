{
 "cells": [
  {
   "cell_type": "code",
   "execution_count": 1,
   "id": "f9683ad8",
   "metadata": {},
   "outputs": [],
   "source": [
    "#importing libraries\n",
    "\n",
    "import pandas as pd\n",
    "import numpy as np\n",
    "import warnings\n",
    "warnings.filterwarnings('ignore')\n",
    "\n",
    "from sklearn.model_selection import train_test_split\n",
    "from sklearn.linear_model import LinearRegression\n",
    "from sklearn.metrics import mean_absolute_error, mean_squared_error, r2_score\n",
    "from statsmodels.stats.outliers_influence import variance_inflation_factor\n",
    "from scipy.stats import shapiro, kstest, normaltest\n",
    "\n",
    "\n",
    "import seaborn as sns\n",
    "import matplotlib.pyplot as plt"
   ]
  },
  {
   "cell_type": "code",
   "execution_count": 4,
   "id": "9673c7fc",
   "metadata": {},
   "outputs": [
    {
     "data": {
      "text/html": [
       "<div>\n",
       "<style scoped>\n",
       "    .dataframe tbody tr th:only-of-type {\n",
       "        vertical-align: middle;\n",
       "    }\n",
       "\n",
       "    .dataframe tbody tr th {\n",
       "        vertical-align: top;\n",
       "    }\n",
       "\n",
       "    .dataframe thead th {\n",
       "        text-align: right;\n",
       "    }\n",
       "</style>\n",
       "<table border=\"1\" class=\"dataframe\">\n",
       "  <thead>\n",
       "    <tr style=\"text-align: right;\">\n",
       "      <th></th>\n",
       "      <th>Species</th>\n",
       "      <th>Weight</th>\n",
       "      <th>Length1</th>\n",
       "      <th>Length2</th>\n",
       "      <th>Length3</th>\n",
       "      <th>Height</th>\n",
       "      <th>Width</th>\n",
       "    </tr>\n",
       "  </thead>\n",
       "  <tbody>\n",
       "    <tr>\n",
       "      <th>0</th>\n",
       "      <td>Bream</td>\n",
       "      <td>242.0</td>\n",
       "      <td>23.2</td>\n",
       "      <td>25.4</td>\n",
       "      <td>30.0</td>\n",
       "      <td>11.5200</td>\n",
       "      <td>4.0200</td>\n",
       "    </tr>\n",
       "    <tr>\n",
       "      <th>1</th>\n",
       "      <td>Bream</td>\n",
       "      <td>290.0</td>\n",
       "      <td>24.0</td>\n",
       "      <td>26.3</td>\n",
       "      <td>31.2</td>\n",
       "      <td>12.4800</td>\n",
       "      <td>4.3056</td>\n",
       "    </tr>\n",
       "    <tr>\n",
       "      <th>2</th>\n",
       "      <td>Bream</td>\n",
       "      <td>340.0</td>\n",
       "      <td>23.9</td>\n",
       "      <td>26.5</td>\n",
       "      <td>31.1</td>\n",
       "      <td>12.3778</td>\n",
       "      <td>4.6961</td>\n",
       "    </tr>\n",
       "    <tr>\n",
       "      <th>3</th>\n",
       "      <td>Bream</td>\n",
       "      <td>363.0</td>\n",
       "      <td>26.3</td>\n",
       "      <td>29.0</td>\n",
       "      <td>33.5</td>\n",
       "      <td>12.7300</td>\n",
       "      <td>4.4555</td>\n",
       "    </tr>\n",
       "    <tr>\n",
       "      <th>4</th>\n",
       "      <td>Bream</td>\n",
       "      <td>430.0</td>\n",
       "      <td>26.5</td>\n",
       "      <td>29.0</td>\n",
       "      <td>34.0</td>\n",
       "      <td>12.4440</td>\n",
       "      <td>5.1340</td>\n",
       "    </tr>\n",
       "    <tr>\n",
       "      <th>...</th>\n",
       "      <td>...</td>\n",
       "      <td>...</td>\n",
       "      <td>...</td>\n",
       "      <td>...</td>\n",
       "      <td>...</td>\n",
       "      <td>...</td>\n",
       "      <td>...</td>\n",
       "    </tr>\n",
       "    <tr>\n",
       "      <th>154</th>\n",
       "      <td>Smelt</td>\n",
       "      <td>12.2</td>\n",
       "      <td>11.5</td>\n",
       "      <td>12.2</td>\n",
       "      <td>13.4</td>\n",
       "      <td>2.0904</td>\n",
       "      <td>1.3936</td>\n",
       "    </tr>\n",
       "    <tr>\n",
       "      <th>155</th>\n",
       "      <td>Smelt</td>\n",
       "      <td>13.4</td>\n",
       "      <td>11.7</td>\n",
       "      <td>12.4</td>\n",
       "      <td>13.5</td>\n",
       "      <td>2.4300</td>\n",
       "      <td>1.2690</td>\n",
       "    </tr>\n",
       "    <tr>\n",
       "      <th>156</th>\n",
       "      <td>Smelt</td>\n",
       "      <td>12.2</td>\n",
       "      <td>12.1</td>\n",
       "      <td>13.0</td>\n",
       "      <td>13.8</td>\n",
       "      <td>2.2770</td>\n",
       "      <td>1.2558</td>\n",
       "    </tr>\n",
       "    <tr>\n",
       "      <th>157</th>\n",
       "      <td>Smelt</td>\n",
       "      <td>19.7</td>\n",
       "      <td>13.2</td>\n",
       "      <td>14.3</td>\n",
       "      <td>15.2</td>\n",
       "      <td>2.8728</td>\n",
       "      <td>2.0672</td>\n",
       "    </tr>\n",
       "    <tr>\n",
       "      <th>158</th>\n",
       "      <td>Smelt</td>\n",
       "      <td>19.9</td>\n",
       "      <td>13.8</td>\n",
       "      <td>15.0</td>\n",
       "      <td>16.2</td>\n",
       "      <td>2.9322</td>\n",
       "      <td>1.8792</td>\n",
       "    </tr>\n",
       "  </tbody>\n",
       "</table>\n",
       "<p>159 rows × 7 columns</p>\n",
       "</div>"
      ],
      "text/plain": [
       "    Species  Weight  Length1  Length2  Length3   Height   Width\n",
       "0     Bream   242.0     23.2     25.4     30.0  11.5200  4.0200\n",
       "1     Bream   290.0     24.0     26.3     31.2  12.4800  4.3056\n",
       "2     Bream   340.0     23.9     26.5     31.1  12.3778  4.6961\n",
       "3     Bream   363.0     26.3     29.0     33.5  12.7300  4.4555\n",
       "4     Bream   430.0     26.5     29.0     34.0  12.4440  5.1340\n",
       "..      ...     ...      ...      ...      ...      ...     ...\n",
       "154   Smelt    12.2     11.5     12.2     13.4   2.0904  1.3936\n",
       "155   Smelt    13.4     11.7     12.4     13.5   2.4300  1.2690\n",
       "156   Smelt    12.2     12.1     13.0     13.8   2.2770  1.2558\n",
       "157   Smelt    19.7     13.2     14.3     15.2   2.8728  2.0672\n",
       "158   Smelt    19.9     13.8     15.0     16.2   2.9322  1.8792\n",
       "\n",
       "[159 rows x 7 columns]"
      ]
     },
     "execution_count": 4,
     "metadata": {},
     "output_type": "execute_result"
    }
   ],
   "source": [
    "#  Loading Data\n",
    "df = pd.read_csv('Fish.csv')\n",
    "df"
   ]
  },
  {
   "cell_type": "code",
   "execution_count": 5,
   "id": "1bcf2837",
   "metadata": {},
   "outputs": [
    {
     "data": {
      "text/plain": [
       "Index(['Species', 'Weight', 'Length1', 'Length2', 'Length3', 'Height',\n",
       "       'Width'],\n",
       "      dtype='object')"
      ]
     },
     "execution_count": 5,
     "metadata": {},
     "output_type": "execute_result"
    }
   ],
   "source": [
    "df.columns"
   ]
  },
  {
   "cell_type": "code",
   "execution_count": 6,
   "id": "1187ec7b",
   "metadata": {},
   "outputs": [
    {
     "name": "stdout",
     "output_type": "stream",
     "text": [
      "<class 'pandas.core.frame.DataFrame'>\n",
      "RangeIndex: 159 entries, 0 to 158\n",
      "Data columns (total 7 columns):\n",
      " #   Column   Non-Null Count  Dtype  \n",
      "---  ------   --------------  -----  \n",
      " 0   Species  159 non-null    object \n",
      " 1   Weight   159 non-null    float64\n",
      " 2   Length1  159 non-null    float64\n",
      " 3   Length2  159 non-null    float64\n",
      " 4   Length3  159 non-null    float64\n",
      " 5   Height   159 non-null    float64\n",
      " 6   Width    159 non-null    float64\n",
      "dtypes: float64(6), object(1)\n",
      "memory usage: 8.8+ KB\n"
     ]
    }
   ],
   "source": [
    "df.info()"
   ]
  },
  {
   "cell_type": "markdown",
   "id": "cee871b3",
   "metadata": {},
   "source": [
    "### Species"
   ]
  },
  {
   "cell_type": "code",
   "execution_count": 7,
   "id": "06178ba8",
   "metadata": {},
   "outputs": [
    {
     "data": {
      "text/plain": [
       "{'Perch': 56,\n",
       " 'Bream': 35,\n",
       " 'Roach': 20,\n",
       " 'Pike': 17,\n",
       " 'Smelt': 14,\n",
       " 'Parkki': 11,\n",
       " 'Whitefish': 6}"
      ]
     },
     "execution_count": 7,
     "metadata": {},
     "output_type": "execute_result"
    }
   ],
   "source": [
    "df['Species'].value_counts().to_dict()"
   ]
  },
  {
   "cell_type": "code",
   "execution_count": 9,
   "id": "583dadc7",
   "metadata": {},
   "outputs": [],
   "source": [
    "df['Species'].replace({'Perch': 0,\n",
    "                         'Bream': 1,\n",
    "                         'Roach': 2,\n",
    "                         'Pike': 3,\n",
    "                         'Smelt': 4,\n",
    "                         'Parkki': 5,\n",
    "                         'Whitefish': 6}, inplace = True)"
   ]
  },
  {
   "cell_type": "markdown",
   "id": "7e1eb1ad",
   "metadata": {},
   "source": [
    "### Train the Data"
   ]
  },
  {
   "cell_type": "code",
   "execution_count": 10,
   "id": "12e22d6f",
   "metadata": {},
   "outputs": [],
   "source": [
    "x = df.drop('Weight', axis = 1)\n",
    "y = df['Weight']"
   ]
  },
  {
   "cell_type": "code",
   "execution_count": 11,
   "id": "5532e110",
   "metadata": {},
   "outputs": [
    {
     "name": "stdout",
     "output_type": "stream",
     "text": [
      "********************************************************************************\n",
      "Training Evaluation\n",
      "\n",
      "mse: 14392.739597554893\n",
      "rmse: 119.96974450900066\n",
      "mae : 89.0314053596187\n",
      "r_squared : 0.8859687170863504\n",
      "********************************************************************************\n",
      "Testing Evaluation\n",
      "\n",
      "mse: 14743.484853333872\n",
      "rmse: 121.4227526180076\n",
      "mae : 95.01543086287568\n",
      "r_squared : 0.88692557146024\n"
     ]
    }
   ],
   "source": [
    "x_train, x_test, y_train, y_test = train_test_split(x,y, test_size = 0.25, random_state = 42)\n",
    "lin_reg = LinearRegression()\n",
    "lin_reg.fit(x_train.values, y_train.values)\n",
    "\n",
    "print(\"*\"*80)\n",
    "print(\"Training Evaluation\\n\")\n",
    "y_pred_train = lin_reg.predict(x_train.values)\n",
    "mse = mean_squared_error(y_train, y_pred_train)\n",
    "print(\"mse:\", mse)\n",
    "\n",
    "rmse = np.sqrt(mse)\n",
    "print(\"rmse:\", rmse)\n",
    "\n",
    "mae = mean_absolute_error(y_train , y_pred_train)\n",
    "print('mae :', mae)\n",
    "\n",
    "r_squared = r2_score(y_train , y_pred_train)\n",
    "print('r_squared :', r_squared)\n",
    "\n",
    "print(\"*\"*80)\n",
    "print(\"Testing Evaluation\\n\")\n",
    "y_pred_test = lin_reg.predict(x_test.values)\n",
    "\n",
    "mse = mean_squared_error(y_test, y_pred_test)\n",
    "print(\"mse:\", mse)\n",
    "\n",
    "rmse = np.sqrt(mse)\n",
    "print(\"rmse:\", rmse)\n",
    "\n",
    "mae = mean_absolute_error(y_test, y_pred_test)\n",
    "print('mae :', mae)\n",
    "\n",
    "r_squared = r2_score(y_test, y_pred_test)\n",
    "print('r_squared :', r_squared)"
   ]
  },
  {
   "cell_type": "markdown",
   "id": "e863bf72",
   "metadata": {},
   "source": [
    "### Project data"
   ]
  },
  {
   "cell_type": "code",
   "execution_count": 13,
   "id": "5944bd10",
   "metadata": {},
   "outputs": [
    {
     "data": {
      "text/plain": [
       "{'Species': {'Perch': 0,\n",
       "  'Bream': 1,\n",
       "  'Roach': 2,\n",
       "  'Pike': 3,\n",
       "  'Smelt': 4,\n",
       "  'Parkki': 5,\n",
       "  'Whitefish': 6},\n",
       " 'Columns': ['Species', 'Length1', 'Length2', 'Length3', 'Height', 'Width']}"
      ]
     },
     "execution_count": 13,
     "metadata": {},
     "output_type": "execute_result"
    }
   ],
   "source": [
    "project_data = {'Species': {'Perch': 0,'Bream': 1,'Roach': 2,'Pike': 3,'Smelt': 4,'Parkki': 5,'Whitefish': 6},\n",
    "               'Columns': x.columns.tolist()}\n",
    "\n",
    "project_data"
   ]
  },
  {
   "cell_type": "markdown",
   "id": "c171eac1",
   "metadata": {},
   "source": [
    "### Test user input Function "
   ]
  },
  {
   "cell_type": "code",
   "execution_count": 14,
   "id": "b209a5e5",
   "metadata": {},
   "outputs": [
    {
     "name": "stdout",
     "output_type": "stream",
     "text": [
      "498.352\n"
     ]
    }
   ],
   "source": [
    "Species = 'Bream'\n",
    "Length1 = 25\n",
    "Length2 = 27\n",
    "Length3 = 28\n",
    "Height = 12.2\n",
    "Width = 4.50\n",
    "\n",
    "Species = project_data['Species'][Species]\n",
    "\n",
    "test_array = np.zeros(len(project_data['Columns']))\n",
    "\n",
    "test_array[0] = Species\n",
    "test_array[1] = Length1\n",
    "test_array[2] = Length2\n",
    "test_array[3] = Length3\n",
    "test_array[4] = Height\n",
    "test_array[5] = Width\n",
    "\n",
    "predicted_weight = np.around(lin_reg.predict([test_array]), 3)[0]\n",
    "print(predicted_weight)"
   ]
  },
  {
   "cell_type": "markdown",
   "id": "7ba14bd2",
   "metadata": {},
   "source": [
    "## Model_File"
   ]
  },
  {
   "cell_type": "code",
   "execution_count": 15,
   "id": "b7c4b019",
   "metadata": {},
   "outputs": [],
   "source": [
    "import pickle\n",
    "import json\n",
    "\n",
    "\n",
    "with open('Linear_reg.pkl', 'wb') as f:\n",
    "    pickle.dump(lin_reg, f)"
   ]
  },
  {
   "cell_type": "markdown",
   "id": "a14b2b3c",
   "metadata": {},
   "source": [
    "## Project_Data_File"
   ]
  },
  {
   "cell_type": "code",
   "execution_count": 16,
   "id": "935b4fde",
   "metadata": {},
   "outputs": [],
   "source": [
    "with open('Fish_project_data.json', 'w') as f:\n",
    "    json.dump(project_data, f)"
   ]
  },
  {
   "cell_type": "code",
   "execution_count": 17,
   "id": "ab1be0d7",
   "metadata": {},
   "outputs": [
    {
     "data": {
      "text/plain": [
       "dict_keys"
      ]
     },
     "execution_count": 17,
     "metadata": {},
     "output_type": "execute_result"
    }
   ],
   "source": [
    "dict1 = {\"Species\": {\"Perch\": 0, \"Bream\": 1, \"Roach\": 2, \"Pike\": 3, \"Smelt\": 4, \"Parkki\": 5, \"Whitefish\": 6}, \"Columns\": [\"Species\", \"Length1\", \"Length2\", \"Length3\", \"Height\", \"Width\"]}\n",
    "\n",
    "var = dict1['Species'].keys()\n",
    "var\n",
    "type(var)"
   ]
  },
  {
   "cell_type": "code",
   "execution_count": null,
   "id": "277e2ea4",
   "metadata": {},
   "outputs": [],
   "source": []
  }
 ],
 "metadata": {
  "kernelspec": {
   "display_name": "Python 3 (ipykernel)",
   "language": "python",
   "name": "python3"
  },
  "language_info": {
   "codemirror_mode": {
    "name": "ipython",
    "version": 3
   },
   "file_extension": ".py",
   "mimetype": "text/x-python",
   "name": "python",
   "nbconvert_exporter": "python",
   "pygments_lexer": "ipython3",
   "version": "3.9.13"
  }
 },
 "nbformat": 4,
 "nbformat_minor": 5
}
